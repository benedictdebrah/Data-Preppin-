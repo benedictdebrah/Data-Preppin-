{
 "cells": [
  {
   "attachments": {},
   "cell_type": "markdown",
   "metadata": {},
   "source": [
    "## W4 Data Preppin'"
   ]
  },
  {
   "cell_type": "code",
   "execution_count": 1,
   "metadata": {},
   "outputs": [],
   "source": [
    "#importing libraries \n",
    "import pandas as pd\n",
    "import numpy as np\n",
    "pd.options.display.max_rows = None     ##this displays all data with no restrictions"
   ]
  },
  {
   "cell_type": "code",
   "execution_count": 2,
   "metadata": {},
   "outputs": [],
   "source": [
    "df= pd.read_excel('New Customers.xlsx')"
   ]
  },
  {
   "cell_type": "code",
   "execution_count": 3,
   "metadata": {},
   "outputs": [
    {
     "data": {
      "text/html": [
       "<div>\n",
       "<style scoped>\n",
       "    .dataframe tbody tr th:only-of-type {\n",
       "        vertical-align: middle;\n",
       "    }\n",
       "\n",
       "    .dataframe tbody tr th {\n",
       "        vertical-align: top;\n",
       "    }\n",
       "\n",
       "    .dataframe thead th {\n",
       "        text-align: right;\n",
       "    }\n",
       "</style>\n",
       "<table border=\"1\" class=\"dataframe\">\n",
       "  <thead>\n",
       "    <tr style=\"text-align: right;\">\n",
       "      <th></th>\n",
       "      <th>ID</th>\n",
       "      <th>Joining Day</th>\n",
       "      <th>Demographic</th>\n",
       "      <th>Value</th>\n",
       "    </tr>\n",
       "  </thead>\n",
       "  <tbody>\n",
       "    <tr>\n",
       "      <th>0</th>\n",
       "      <td>490910</td>\n",
       "      <td>3</td>\n",
       "      <td>Ethnicity</td>\n",
       "      <td>White</td>\n",
       "    </tr>\n",
       "    <tr>\n",
       "      <th>1</th>\n",
       "      <td>490910</td>\n",
       "      <td>3</td>\n",
       "      <td>Date of Birth</td>\n",
       "      <td>5/23/1981</td>\n",
       "    </tr>\n",
       "    <tr>\n",
       "      <th>2</th>\n",
       "      <td>490910</td>\n",
       "      <td>3</td>\n",
       "      <td>Account Type</td>\n",
       "      <td>Basic</td>\n",
       "    </tr>\n",
       "    <tr>\n",
       "      <th>3</th>\n",
       "      <td>369221</td>\n",
       "      <td>18</td>\n",
       "      <td>Ethnicity</td>\n",
       "      <td>Black</td>\n",
       "    </tr>\n",
       "    <tr>\n",
       "      <th>4</th>\n",
       "      <td>369221</td>\n",
       "      <td>18</td>\n",
       "      <td>Date of Birth</td>\n",
       "      <td>3/4/2019</td>\n",
       "    </tr>\n",
       "  </tbody>\n",
       "</table>\n",
       "</div>"
      ],
      "text/plain": [
       "       ID  Joining Day    Demographic      Value\n",
       "0  490910            3      Ethnicity      White\n",
       "1  490910            3  Date of Birth  5/23/1981\n",
       "2  490910            3   Account Type      Basic\n",
       "3  369221           18      Ethnicity      Black\n",
       "4  369221           18  Date of Birth   3/4/2019"
      ]
     },
     "execution_count": 3,
     "metadata": {},
     "output_type": "execute_result"
    }
   ],
   "source": [
    "df.head()"
   ]
  },
  {
   "cell_type": "markdown",
   "metadata": {},
   "source": [
    "Viewing the dataset in MS excel.\n",
    "\n",
    "I realised the data are saved in worksheets beased on the months\n",
    "\n",
    "The above data is from January worksheets\n",
    "\n",
    "Manipulatio needs to be performed to join all sheets and clean it"
   ]
  },
  {
   "cell_type": "code",
   "execution_count": 4,
   "metadata": {},
   "outputs": [
    {
     "name": "stdout",
     "output_type": "stream",
     "text": [
      "['January', 'February', 'March', 'April', 'May', 'June', 'July', 'August', 'September', 'October', 'November', 'December']\n"
     ]
    }
   ],
   "source": [
    "#I want the worksheets name\n",
    "from openpyxl import load_workbook\n",
    "file_name = \"New Customers.xlsx\"\n",
    "workbook = load_workbook(file_name)\n",
    "worksheet_names = workbook.sheetnames\n",
    "print(worksheet_names)\n"
   ]
  },
  {
   "cell_type": "code",
   "execution_count": 5,
   "metadata": {},
   "outputs": [],
   "source": [
    "#read all worksheets in the excel file and create a column containg the worksheet names\n",
    "# assuming that the worksheet names are stored in a list called 'worksheet_names'\n",
    "dfs = []\n",
    "for worksheet_name in worksheet_names:\n",
    "    df_temp = pd.read_excel('New Customers.xlsx', sheet_name=worksheet_name)\n",
    "    df_temp['worksheet_name'] = worksheet_name\n",
    "    dfs.append(df_temp)\n",
    "data = pd.concat(dfs)"
   ]
  },
  {
   "cell_type": "code",
   "execution_count": 6,
   "metadata": {},
   "outputs": [
    {
     "data": {
      "text/html": [
       "<div>\n",
       "<style scoped>\n",
       "    .dataframe tbody tr th:only-of-type {\n",
       "        vertical-align: middle;\n",
       "    }\n",
       "\n",
       "    .dataframe tbody tr th {\n",
       "        vertical-align: top;\n",
       "    }\n",
       "\n",
       "    .dataframe thead th {\n",
       "        text-align: right;\n",
       "    }\n",
       "</style>\n",
       "<table border=\"1\" class=\"dataframe\">\n",
       "  <thead>\n",
       "    <tr style=\"text-align: right;\">\n",
       "      <th></th>\n",
       "      <th>ID</th>\n",
       "      <th>Joining Day</th>\n",
       "      <th>Demographic</th>\n",
       "      <th>Value</th>\n",
       "      <th>worksheet_name</th>\n",
       "      <th>Demographiic</th>\n",
       "      <th>Demagraphic</th>\n",
       "    </tr>\n",
       "  </thead>\n",
       "  <tbody>\n",
       "    <tr>\n",
       "      <th>0</th>\n",
       "      <td>490910</td>\n",
       "      <td>3</td>\n",
       "      <td>Ethnicity</td>\n",
       "      <td>White</td>\n",
       "      <td>January</td>\n",
       "      <td>NaN</td>\n",
       "      <td>NaN</td>\n",
       "    </tr>\n",
       "    <tr>\n",
       "      <th>1</th>\n",
       "      <td>490910</td>\n",
       "      <td>3</td>\n",
       "      <td>Date of Birth</td>\n",
       "      <td>5/23/1981</td>\n",
       "      <td>January</td>\n",
       "      <td>NaN</td>\n",
       "      <td>NaN</td>\n",
       "    </tr>\n",
       "    <tr>\n",
       "      <th>2</th>\n",
       "      <td>490910</td>\n",
       "      <td>3</td>\n",
       "      <td>Account Type</td>\n",
       "      <td>Basic</td>\n",
       "      <td>January</td>\n",
       "      <td>NaN</td>\n",
       "      <td>NaN</td>\n",
       "    </tr>\n",
       "    <tr>\n",
       "      <th>3</th>\n",
       "      <td>369221</td>\n",
       "      <td>18</td>\n",
       "      <td>Ethnicity</td>\n",
       "      <td>Black</td>\n",
       "      <td>January</td>\n",
       "      <td>NaN</td>\n",
       "      <td>NaN</td>\n",
       "    </tr>\n",
       "    <tr>\n",
       "      <th>4</th>\n",
       "      <td>369221</td>\n",
       "      <td>18</td>\n",
       "      <td>Date of Birth</td>\n",
       "      <td>3/4/2019</td>\n",
       "      <td>January</td>\n",
       "      <td>NaN</td>\n",
       "      <td>NaN</td>\n",
       "    </tr>\n",
       "  </tbody>\n",
       "</table>\n",
       "</div>"
      ],
      "text/plain": [
       "       ID  Joining Day    Demographic      Value worksheet_name Demographiic  \\\n",
       "0  490910            3      Ethnicity      White        January          NaN   \n",
       "1  490910            3  Date of Birth  5/23/1981        January          NaN   \n",
       "2  490910            3   Account Type      Basic        January          NaN   \n",
       "3  369221           18      Ethnicity      Black        January          NaN   \n",
       "4  369221           18  Date of Birth   3/4/2019        January          NaN   \n",
       "\n",
       "  Demagraphic  \n",
       "0         NaN  \n",
       "1         NaN  \n",
       "2         NaN  \n",
       "3         NaN  \n",
       "4         NaN  "
      ]
     },
     "execution_count": 6,
     "metadata": {},
     "output_type": "execute_result"
    }
   ],
   "source": [
    "data.head()"
   ]
  },
  {
   "attachments": {},
   "cell_type": "markdown",
   "metadata": {},
   "source": [
    "From the above data ,all the worksheets have been joined and some columns were not the same so we need to change that (Demographic column)"
   ]
  },
  {
   "cell_type": "code",
   "execution_count": 7,
   "metadata": {},
   "outputs": [],
   "source": [
    "data = data.rename(columns={'Demagraphic': 'Demographic_3','Demographiic':'Demographic_2'})\n"
   ]
  },
  {
   "cell_type": "code",
   "execution_count": 8,
   "metadata": {},
   "outputs": [
    {
     "data": {
      "text/html": [
       "<div>\n",
       "<style scoped>\n",
       "    .dataframe tbody tr th:only-of-type {\n",
       "        vertical-align: middle;\n",
       "    }\n",
       "\n",
       "    .dataframe tbody tr th {\n",
       "        vertical-align: top;\n",
       "    }\n",
       "\n",
       "    .dataframe thead th {\n",
       "        text-align: right;\n",
       "    }\n",
       "</style>\n",
       "<table border=\"1\" class=\"dataframe\">\n",
       "  <thead>\n",
       "    <tr style=\"text-align: right;\">\n",
       "      <th></th>\n",
       "      <th>ID</th>\n",
       "      <th>Joining Day</th>\n",
       "      <th>Demographic</th>\n",
       "      <th>Value</th>\n",
       "      <th>worksheet_name</th>\n",
       "      <th>Demographic_2</th>\n",
       "      <th>Demographic_3</th>\n",
       "    </tr>\n",
       "  </thead>\n",
       "  <tbody>\n",
       "    <tr>\n",
       "      <th>0</th>\n",
       "      <td>490910</td>\n",
       "      <td>3</td>\n",
       "      <td>Ethnicity</td>\n",
       "      <td>White</td>\n",
       "      <td>January</td>\n",
       "      <td>NaN</td>\n",
       "      <td>NaN</td>\n",
       "    </tr>\n",
       "    <tr>\n",
       "      <th>1</th>\n",
       "      <td>490910</td>\n",
       "      <td>3</td>\n",
       "      <td>Date of Birth</td>\n",
       "      <td>5/23/1981</td>\n",
       "      <td>January</td>\n",
       "      <td>NaN</td>\n",
       "      <td>NaN</td>\n",
       "    </tr>\n",
       "    <tr>\n",
       "      <th>2</th>\n",
       "      <td>490910</td>\n",
       "      <td>3</td>\n",
       "      <td>Account Type</td>\n",
       "      <td>Basic</td>\n",
       "      <td>January</td>\n",
       "      <td>NaN</td>\n",
       "      <td>NaN</td>\n",
       "    </tr>\n",
       "    <tr>\n",
       "      <th>3</th>\n",
       "      <td>369221</td>\n",
       "      <td>18</td>\n",
       "      <td>Ethnicity</td>\n",
       "      <td>Black</td>\n",
       "      <td>January</td>\n",
       "      <td>NaN</td>\n",
       "      <td>NaN</td>\n",
       "    </tr>\n",
       "    <tr>\n",
       "      <th>4</th>\n",
       "      <td>369221</td>\n",
       "      <td>18</td>\n",
       "      <td>Date of Birth</td>\n",
       "      <td>3/4/2019</td>\n",
       "      <td>January</td>\n",
       "      <td>NaN</td>\n",
       "      <td>NaN</td>\n",
       "    </tr>\n",
       "  </tbody>\n",
       "</table>\n",
       "</div>"
      ],
      "text/plain": [
       "       ID  Joining Day    Demographic      Value worksheet_name Demographic_2  \\\n",
       "0  490910            3      Ethnicity      White        January           NaN   \n",
       "1  490910            3  Date of Birth  5/23/1981        January           NaN   \n",
       "2  490910            3   Account Type      Basic        January           NaN   \n",
       "3  369221           18      Ethnicity      Black        January           NaN   \n",
       "4  369221           18  Date of Birth   3/4/2019        January           NaN   \n",
       "\n",
       "  Demographic_3  \n",
       "0           NaN  \n",
       "1           NaN  \n",
       "2           NaN  \n",
       "3           NaN  \n",
       "4           NaN  "
      ]
     },
     "execution_count": 8,
     "metadata": {},
     "output_type": "execute_result"
    }
   ],
   "source": [
    "data.head()"
   ]
  },
  {
   "attachments": {},
   "cell_type": "markdown",
   "metadata": {},
   "source": [
    "Demographic columns have the same name now .\n",
    "\n",
    "We need to make them one and join them in the dataset"
   ]
  },
  {
   "cell_type": "code",
   "execution_count": 9,
   "metadata": {},
   "outputs": [],
   "source": [
    "# update the first demographic column with the values from the second and third demographic columns\n",
    "data['Demographic'] = data['Demographic'].combine_first(data['Demographic_2']).combine_first(data['Demographic_3'])\n",
    "\n",
    "# drop the second and third demographic columns\n",
    "data = data.drop(columns=['Demographic_2', 'Demographic_3'])"
   ]
  },
  {
   "cell_type": "code",
   "execution_count": 10,
   "metadata": {},
   "outputs": [
    {
     "data": {
      "text/html": [
       "<div>\n",
       "<style scoped>\n",
       "    .dataframe tbody tr th:only-of-type {\n",
       "        vertical-align: middle;\n",
       "    }\n",
       "\n",
       "    .dataframe tbody tr th {\n",
       "        vertical-align: top;\n",
       "    }\n",
       "\n",
       "    .dataframe thead th {\n",
       "        text-align: right;\n",
       "    }\n",
       "</style>\n",
       "<table border=\"1\" class=\"dataframe\">\n",
       "  <thead>\n",
       "    <tr style=\"text-align: right;\">\n",
       "      <th></th>\n",
       "      <th>ID</th>\n",
       "      <th>Joining Day</th>\n",
       "      <th>Demographic</th>\n",
       "      <th>Value</th>\n",
       "      <th>worksheet_name</th>\n",
       "    </tr>\n",
       "  </thead>\n",
       "  <tbody>\n",
       "    <tr>\n",
       "      <th>0</th>\n",
       "      <td>490910</td>\n",
       "      <td>3</td>\n",
       "      <td>Ethnicity</td>\n",
       "      <td>White</td>\n",
       "      <td>January</td>\n",
       "    </tr>\n",
       "    <tr>\n",
       "      <th>1</th>\n",
       "      <td>490910</td>\n",
       "      <td>3</td>\n",
       "      <td>Date of Birth</td>\n",
       "      <td>5/23/1981</td>\n",
       "      <td>January</td>\n",
       "    </tr>\n",
       "    <tr>\n",
       "      <th>2</th>\n",
       "      <td>490910</td>\n",
       "      <td>3</td>\n",
       "      <td>Account Type</td>\n",
       "      <td>Basic</td>\n",
       "      <td>January</td>\n",
       "    </tr>\n",
       "    <tr>\n",
       "      <th>3</th>\n",
       "      <td>369221</td>\n",
       "      <td>18</td>\n",
       "      <td>Ethnicity</td>\n",
       "      <td>Black</td>\n",
       "      <td>January</td>\n",
       "    </tr>\n",
       "    <tr>\n",
       "      <th>4</th>\n",
       "      <td>369221</td>\n",
       "      <td>18</td>\n",
       "      <td>Date of Birth</td>\n",
       "      <td>3/4/2019</td>\n",
       "      <td>January</td>\n",
       "    </tr>\n",
       "  </tbody>\n",
       "</table>\n",
       "</div>"
      ],
      "text/plain": [
       "       ID  Joining Day    Demographic      Value worksheet_name\n",
       "0  490910            3      Ethnicity      White        January\n",
       "1  490910            3  Date of Birth  5/23/1981        January\n",
       "2  490910            3   Account Type      Basic        January\n",
       "3  369221           18      Ethnicity      Black        January\n",
       "4  369221           18  Date of Birth   3/4/2019        January"
      ]
     },
     "execution_count": 10,
     "metadata": {},
     "output_type": "execute_result"
    }
   ],
   "source": [
    "#data  #displays all data  \n",
    "data.head()"
   ]
  },
  {
   "attachments": {},
   "cell_type": "markdown",
   "metadata": {},
   "source": [
    "Our data is intact now\n",
    "\n",
    " Cleaning need to be performed as required"
   ]
  },
  {
   "cell_type": "code",
   "execution_count": 11,
   "metadata": {},
   "outputs": [],
   "source": [
    "#Make a Joining Date field based on the Joining Day, worksheet Names and the year 2023\n",
    "\n",
    "# Create a new column \"Joining Date\"\n",
    "data['Joining Date'] = pd.to_datetime(data['Joining Day'].astype(str) + ' ' + data['worksheet_name'] + ' 2023')\n",
    "\n",
    "# Verify the new column\n",
    "#print(data['Joining Date'])"
   ]
  },
  {
   "attachments": {},
   "cell_type": "markdown",
   "metadata": {},
   "source": [
    "Joining date created ,dropping the columns not inuse now\n"
   ]
  },
  {
   "cell_type": "code",
   "execution_count": 12,
   "metadata": {},
   "outputs": [],
   "source": [
    "#droppin some columns\n",
    "data = data.drop(columns=['Joining Day','worksheet_name'])"
   ]
  },
  {
   "cell_type": "code",
   "execution_count": 13,
   "metadata": {},
   "outputs": [
    {
     "data": {
      "text/html": [
       "<div>\n",
       "<style scoped>\n",
       "    .dataframe tbody tr th:only-of-type {\n",
       "        vertical-align: middle;\n",
       "    }\n",
       "\n",
       "    .dataframe tbody tr th {\n",
       "        vertical-align: top;\n",
       "    }\n",
       "\n",
       "    .dataframe thead th {\n",
       "        text-align: right;\n",
       "    }\n",
       "</style>\n",
       "<table border=\"1\" class=\"dataframe\">\n",
       "  <thead>\n",
       "    <tr style=\"text-align: right;\">\n",
       "      <th></th>\n",
       "      <th>ID</th>\n",
       "      <th>Demographic</th>\n",
       "      <th>Value</th>\n",
       "      <th>Joining Date</th>\n",
       "    </tr>\n",
       "  </thead>\n",
       "  <tbody>\n",
       "    <tr>\n",
       "      <th>0</th>\n",
       "      <td>490910</td>\n",
       "      <td>Ethnicity</td>\n",
       "      <td>White</td>\n",
       "      <td>2023-01-03</td>\n",
       "    </tr>\n",
       "    <tr>\n",
       "      <th>1</th>\n",
       "      <td>490910</td>\n",
       "      <td>Date of Birth</td>\n",
       "      <td>5/23/1981</td>\n",
       "      <td>2023-01-03</td>\n",
       "    </tr>\n",
       "    <tr>\n",
       "      <th>2</th>\n",
       "      <td>490910</td>\n",
       "      <td>Account Type</td>\n",
       "      <td>Basic</td>\n",
       "      <td>2023-01-03</td>\n",
       "    </tr>\n",
       "    <tr>\n",
       "      <th>3</th>\n",
       "      <td>369221</td>\n",
       "      <td>Ethnicity</td>\n",
       "      <td>Black</td>\n",
       "      <td>2023-01-18</td>\n",
       "    </tr>\n",
       "    <tr>\n",
       "      <th>4</th>\n",
       "      <td>369221</td>\n",
       "      <td>Date of Birth</td>\n",
       "      <td>3/4/2019</td>\n",
       "      <td>2023-01-18</td>\n",
       "    </tr>\n",
       "  </tbody>\n",
       "</table>\n",
       "</div>"
      ],
      "text/plain": [
       "       ID    Demographic      Value Joining Date\n",
       "0  490910      Ethnicity      White   2023-01-03\n",
       "1  490910  Date of Birth  5/23/1981   2023-01-03\n",
       "2  490910   Account Type      Basic   2023-01-03\n",
       "3  369221      Ethnicity      Black   2023-01-18\n",
       "4  369221  Date of Birth   3/4/2019   2023-01-18"
      ]
     },
     "execution_count": 13,
     "metadata": {},
     "output_type": "execute_result"
    }
   ],
   "source": [
    "data.head()"
   ]
  },
  {
   "attachments": {},
   "cell_type": "markdown",
   "metadata": {},
   "source": [
    "### Changes for Demographic columns since it contains other columns and values contains their values"
   ]
  },
  {
   "attachments": {},
   "cell_type": "markdown",
   "metadata": {},
   "source": [
    "### I would love to use Microsoft Excel Power Query to solve this issue\n",
    "\n",
    "Visit this link to watch the excel video walkthrough : https://youtu.be/dFFGouIpSEE"
   ]
  },
  {
   "cell_type": "code",
   "execution_count": 14,
   "metadata": {},
   "outputs": [],
   "source": [
    "#data.to_csv('data.csv') #exporting data to make changes on the above file"
   ]
  },
  {
   "cell_type": "code",
   "execution_count": 15,
   "metadata": {},
   "outputs": [],
   "source": [
    "final = pd.read_excel('Final Data.xlsx')"
   ]
  },
  {
   "cell_type": "code",
   "execution_count": 16,
   "metadata": {},
   "outputs": [],
   "source": [
    "final = final.drop_duplicates()"
   ]
  },
  {
   "cell_type": "code",
   "execution_count": 17,
   "metadata": {},
   "outputs": [
    {
     "data": {
      "text/plain": [
       "(990, 5)"
      ]
     },
     "execution_count": 17,
     "metadata": {},
     "output_type": "execute_result"
    }
   ],
   "source": [
    "final.shape"
   ]
  },
  {
   "cell_type": "markdown",
   "metadata": {},
   "source": [
    "Thanks for watching"
   ]
  }
 ],
 "metadata": {
  "kernelspec": {
   "display_name": "Python 3",
   "language": "python",
   "name": "python3"
  },
  "language_info": {
   "codemirror_mode": {
    "name": "ipython",
    "version": 3
   },
   "file_extension": ".py",
   "mimetype": "text/x-python",
   "name": "python",
   "nbconvert_exporter": "python",
   "pygments_lexer": "ipython3",
   "version": "3.10.9"
  },
  "orig_nbformat": 4,
  "vscode": {
   "interpreter": {
    "hash": "a3c6aa2c1f5ade621a3ce5896e28a293a53d1c4364b3b89dfb2b4cbc0658e59e"
   }
  }
 },
 "nbformat": 4,
 "nbformat_minor": 2
}
