{
 "cells": [
  {
   "cell_type": "code",
   "execution_count": 1,
   "metadata": {},
   "outputs": [],
   "source": [
    "import pandas as pd"
   ]
  },
  {
   "cell_type": "code",
   "execution_count": 2,
   "metadata": {},
   "outputs": [],
   "source": [
    "tras_path = pd.read_csv('Transaction Path.csv')\n",
    "acc_hold = pd.read_excel('Account Information.xlsx',sheet_name='Account Holders')\n",
    "acc_info = pd.read_excel('Account Information.xlsx',sheet_name='Account Information')\n",
    "tras_det = pd.read_csv('Transaction Detail.csv')"
   ]
  },
  {
   "cell_type": "code",
   "execution_count": 3,
   "metadata": {},
   "outputs": [
    {
     "name": "stdout",
     "output_type": "stream",
     "text": [
      "(8781, 4)\n"
     ]
    },
    {
     "data": {
      "text/html": [
       "<div>\n",
       "<style scoped>\n",
       "    .dataframe tbody tr th:only-of-type {\n",
       "        vertical-align: middle;\n",
       "    }\n",
       "\n",
       "    .dataframe tbody tr th {\n",
       "        vertical-align: top;\n",
       "    }\n",
       "\n",
       "    .dataframe thead th {\n",
       "        text-align: right;\n",
       "    }\n",
       "</style>\n",
       "<table border=\"1\" class=\"dataframe\">\n",
       "  <thead>\n",
       "    <tr style=\"text-align: right;\">\n",
       "      <th></th>\n",
       "      <th>Transaction ID</th>\n",
       "      <th>Transaction Date</th>\n",
       "      <th>Value</th>\n",
       "      <th>Cancelled?</th>\n",
       "    </tr>\n",
       "  </thead>\n",
       "  <tbody>\n",
       "    <tr>\n",
       "      <th>0</th>\n",
       "      <td>1957155</td>\n",
       "      <td>2023-02-01</td>\n",
       "      <td>128.78</td>\n",
       "      <td>N</td>\n",
       "    </tr>\n",
       "    <tr>\n",
       "      <th>1</th>\n",
       "      <td>28234510</td>\n",
       "      <td>2023-02-01</td>\n",
       "      <td>163.82</td>\n",
       "      <td>N</td>\n",
       "    </tr>\n",
       "    <tr>\n",
       "      <th>2</th>\n",
       "      <td>33688648</td>\n",
       "      <td>2023-02-01</td>\n",
       "      <td>54.71</td>\n",
       "      <td>N</td>\n",
       "    </tr>\n",
       "    <tr>\n",
       "      <th>3</th>\n",
       "      <td>41670299</td>\n",
       "      <td>2023-02-01</td>\n",
       "      <td>88.10</td>\n",
       "      <td>N</td>\n",
       "    </tr>\n",
       "    <tr>\n",
       "      <th>4</th>\n",
       "      <td>42825784</td>\n",
       "      <td>2023-02-01</td>\n",
       "      <td>217.22</td>\n",
       "      <td>Y</td>\n",
       "    </tr>\n",
       "  </tbody>\n",
       "</table>\n",
       "</div>"
      ],
      "text/plain": [
       "   Transaction ID Transaction Date   Value Cancelled?\n",
       "0         1957155       2023-02-01  128.78          N\n",
       "1        28234510       2023-02-01  163.82          N\n",
       "2        33688648       2023-02-01   54.71          N\n",
       "3        41670299       2023-02-01   88.10          N\n",
       "4        42825784       2023-02-01  217.22          Y"
      ]
     },
     "execution_count": 3,
     "metadata": {},
     "output_type": "execute_result"
    }
   ],
   "source": [
    "print(tras_det.shape)\n",
    "tras_det.head()"
   ]
  },
  {
   "cell_type": "code",
   "execution_count": 4,
   "metadata": {},
   "outputs": [],
   "source": [
    "tras_det = tras_det[tras_det['Cancelled?'] != 'Y']\n"
   ]
  },
  {
   "cell_type": "code",
   "execution_count": 5,
   "metadata": {},
   "outputs": [
    {
     "data": {
      "text/html": [
       "<div>\n",
       "<style scoped>\n",
       "    .dataframe tbody tr th:only-of-type {\n",
       "        vertical-align: middle;\n",
       "    }\n",
       "\n",
       "    .dataframe tbody tr th {\n",
       "        vertical-align: top;\n",
       "    }\n",
       "\n",
       "    .dataframe thead th {\n",
       "        text-align: right;\n",
       "    }\n",
       "</style>\n",
       "<table border=\"1\" class=\"dataframe\">\n",
       "  <thead>\n",
       "    <tr style=\"text-align: right;\">\n",
       "      <th></th>\n",
       "      <th>Transaction ID</th>\n",
       "      <th>Transaction Date</th>\n",
       "      <th>Value</th>\n",
       "      <th>Cancelled?</th>\n",
       "    </tr>\n",
       "  </thead>\n",
       "  <tbody>\n",
       "    <tr>\n",
       "      <th>0</th>\n",
       "      <td>1957155</td>\n",
       "      <td>2023-02-01</td>\n",
       "      <td>128.78</td>\n",
       "      <td>N</td>\n",
       "    </tr>\n",
       "    <tr>\n",
       "      <th>1</th>\n",
       "      <td>28234510</td>\n",
       "      <td>2023-02-01</td>\n",
       "      <td>163.82</td>\n",
       "      <td>N</td>\n",
       "    </tr>\n",
       "    <tr>\n",
       "      <th>2</th>\n",
       "      <td>33688648</td>\n",
       "      <td>2023-02-01</td>\n",
       "      <td>54.71</td>\n",
       "      <td>N</td>\n",
       "    </tr>\n",
       "    <tr>\n",
       "      <th>3</th>\n",
       "      <td>41670299</td>\n",
       "      <td>2023-02-01</td>\n",
       "      <td>88.10</td>\n",
       "      <td>N</td>\n",
       "    </tr>\n",
       "    <tr>\n",
       "      <th>5</th>\n",
       "      <td>57723869</td>\n",
       "      <td>2023-02-01</td>\n",
       "      <td>89.22</td>\n",
       "      <td>N</td>\n",
       "    </tr>\n",
       "    <tr>\n",
       "      <th>...</th>\n",
       "      <td>...</td>\n",
       "      <td>...</td>\n",
       "      <td>...</td>\n",
       "      <td>...</td>\n",
       "    </tr>\n",
       "    <tr>\n",
       "      <th>8776</th>\n",
       "      <td>9881408962</td>\n",
       "      <td>2023-02-14</td>\n",
       "      <td>38.18</td>\n",
       "      <td>N</td>\n",
       "    </tr>\n",
       "    <tr>\n",
       "      <th>8777</th>\n",
       "      <td>9889326485</td>\n",
       "      <td>2023-02-14</td>\n",
       "      <td>126.71</td>\n",
       "      <td>N</td>\n",
       "    </tr>\n",
       "    <tr>\n",
       "      <th>8778</th>\n",
       "      <td>9892097130</td>\n",
       "      <td>2023-02-14</td>\n",
       "      <td>157.43</td>\n",
       "      <td>N</td>\n",
       "    </tr>\n",
       "    <tr>\n",
       "      <th>8779</th>\n",
       "      <td>9951297137</td>\n",
       "      <td>2023-02-14</td>\n",
       "      <td>120.16</td>\n",
       "      <td>N</td>\n",
       "    </tr>\n",
       "    <tr>\n",
       "      <th>8780</th>\n",
       "      <td>9954545077</td>\n",
       "      <td>2023-02-14</td>\n",
       "      <td>128.56</td>\n",
       "      <td>N</td>\n",
       "    </tr>\n",
       "  </tbody>\n",
       "</table>\n",
       "<p>8689 rows × 4 columns</p>\n",
       "</div>"
      ],
      "text/plain": [
       "      Transaction ID Transaction Date   Value Cancelled?\n",
       "0            1957155       2023-02-01  128.78          N\n",
       "1           28234510       2023-02-01  163.82          N\n",
       "2           33688648       2023-02-01   54.71          N\n",
       "3           41670299       2023-02-01   88.10          N\n",
       "5           57723869       2023-02-01   89.22          N\n",
       "...              ...              ...     ...        ...\n",
       "8776      9881408962       2023-02-14   38.18          N\n",
       "8777      9889326485       2023-02-14  126.71          N\n",
       "8778      9892097130       2023-02-14  157.43          N\n",
       "8779      9951297137       2023-02-14  120.16          N\n",
       "8780      9954545077       2023-02-14  128.56          N\n",
       "\n",
       "[8689 rows x 4 columns]"
      ]
     },
     "execution_count": 5,
     "metadata": {},
     "output_type": "execute_result"
    }
   ],
   "source": [
    "tras_det"
   ]
  },
  {
   "cell_type": "code",
   "execution_count": 6,
   "metadata": {},
   "outputs": [
    {
     "name": "stdout",
     "output_type": "stream",
     "text": [
      "(3000, 5)\n"
     ]
    }
   ],
   "source": [
    "acc_info.head()\n",
    "print(acc_info.shape)"
   ]
  },
  {
   "cell_type": "code",
   "execution_count": 7,
   "metadata": {},
   "outputs": [
    {
     "data": {
      "text/plain": [
       "(2545, 5)"
      ]
     },
     "execution_count": 7,
     "metadata": {},
     "output_type": "execute_result"
    }
   ],
   "source": [
    "acc_info = acc_info[acc_info['Account Type'] != 'Platinum']\n",
    "acc_info.shape"
   ]
  },
  {
   "cell_type": "code",
   "execution_count": 8,
   "metadata": {},
   "outputs": [],
   "source": [
    "tras_det = tras_det[tras_det['Value'] > 1000]"
   ]
  },
  {
   "cell_type": "code",
   "execution_count": 9,
   "metadata": {},
   "outputs": [],
   "source": [
    "transaction = tras_det.merge(tras_path,on='Transaction ID')"
   ]
  },
  {
   "cell_type": "code",
   "execution_count": 10,
   "metadata": {},
   "outputs": [
    {
     "data": {
      "text/html": [
       "<div>\n",
       "<style scoped>\n",
       "    .dataframe tbody tr th:only-of-type {\n",
       "        vertical-align: middle;\n",
       "    }\n",
       "\n",
       "    .dataframe tbody tr th {\n",
       "        vertical-align: top;\n",
       "    }\n",
       "\n",
       "    .dataframe thead th {\n",
       "        text-align: right;\n",
       "    }\n",
       "</style>\n",
       "<table border=\"1\" class=\"dataframe\">\n",
       "  <thead>\n",
       "    <tr style=\"text-align: right;\">\n",
       "      <th></th>\n",
       "      <th>Transaction ID</th>\n",
       "      <th>Transaction Date</th>\n",
       "      <th>Value</th>\n",
       "      <th>Cancelled?</th>\n",
       "      <th>Account_To</th>\n",
       "      <th>Account From</th>\n",
       "    </tr>\n",
       "  </thead>\n",
       "  <tbody>\n",
       "    <tr>\n",
       "      <th>0</th>\n",
       "      <td>205795064</td>\n",
       "      <td>2023-02-01</td>\n",
       "      <td>1152.9</td>\n",
       "      <td>N</td>\n",
       "      <td>86053438</td>\n",
       "      <td>86893452</td>\n",
       "    </tr>\n",
       "    <tr>\n",
       "      <th>1</th>\n",
       "      <td>275656446</td>\n",
       "      <td>2023-02-01</td>\n",
       "      <td>1139.7</td>\n",
       "      <td>N</td>\n",
       "      <td>28911002</td>\n",
       "      <td>81655495</td>\n",
       "    </tr>\n",
       "    <tr>\n",
       "      <th>2</th>\n",
       "      <td>664959989</td>\n",
       "      <td>2023-02-01</td>\n",
       "      <td>1255.3</td>\n",
       "      <td>N</td>\n",
       "      <td>39402264</td>\n",
       "      <td>70214700</td>\n",
       "    </tr>\n",
       "    <tr>\n",
       "      <th>3</th>\n",
       "      <td>826394388</td>\n",
       "      <td>2023-02-01</td>\n",
       "      <td>1089.6</td>\n",
       "      <td>N</td>\n",
       "      <td>71718483</td>\n",
       "      <td>32221652</td>\n",
       "    </tr>\n",
       "    <tr>\n",
       "      <th>4</th>\n",
       "      <td>908048920</td>\n",
       "      <td>2023-02-01</td>\n",
       "      <td>1194.4</td>\n",
       "      <td>N</td>\n",
       "      <td>97294152</td>\n",
       "      <td>99729369</td>\n",
       "    </tr>\n",
       "  </tbody>\n",
       "</table>\n",
       "</div>"
      ],
      "text/plain": [
       "   Transaction ID Transaction Date   Value Cancelled?  Account_To  \\\n",
       "0       205795064       2023-02-01  1152.9          N    86053438   \n",
       "1       275656446       2023-02-01  1139.7          N    28911002   \n",
       "2       664959989       2023-02-01  1255.3          N    39402264   \n",
       "3       826394388       2023-02-01  1089.6          N    71718483   \n",
       "4       908048920       2023-02-01  1194.4          N    97294152   \n",
       "\n",
       "   Account From  \n",
       "0      86893452  \n",
       "1      81655495  \n",
       "2      70214700  \n",
       "3      32221652  \n",
       "4      99729369  "
      ]
     },
     "execution_count": 10,
     "metadata": {},
     "output_type": "execute_result"
    }
   ],
   "source": [
    "transaction.head()"
   ]
  },
  {
   "cell_type": "code",
   "execution_count": 11,
   "metadata": {},
   "outputs": [],
   "source": [
    "acc = acc_hold.merge(acc_info,on='Account Holder ID')"
   ]
  },
  {
   "cell_type": "code",
   "execution_count": 12,
   "metadata": {},
   "outputs": [
    {
     "data": {
      "text/html": [
       "<div>\n",
       "<style scoped>\n",
       "    .dataframe tbody tr th:only-of-type {\n",
       "        vertical-align: middle;\n",
       "    }\n",
       "\n",
       "    .dataframe tbody tr th {\n",
       "        vertical-align: top;\n",
       "    }\n",
       "\n",
       "    .dataframe thead th {\n",
       "        text-align: right;\n",
       "    }\n",
       "</style>\n",
       "<table border=\"1\" class=\"dataframe\">\n",
       "  <thead>\n",
       "    <tr style=\"text-align: right;\">\n",
       "      <th></th>\n",
       "      <th>Account Holder ID</th>\n",
       "      <th>Name</th>\n",
       "      <th>Date of Birth</th>\n",
       "      <th>Contact Number</th>\n",
       "      <th>First Line of Address</th>\n",
       "      <th>Account Number</th>\n",
       "      <th>Account Type</th>\n",
       "      <th>Balance Date</th>\n",
       "      <th>Balance</th>\n",
       "    </tr>\n",
       "  </thead>\n",
       "  <tbody>\n",
       "    <tr>\n",
       "      <th>0</th>\n",
       "      <td>20123998</td>\n",
       "      <td>Maynord Surgeoner</td>\n",
       "      <td>21/08/1997</td>\n",
       "      <td>7716107305</td>\n",
       "      <td>6422 Buena Vista Plaza</td>\n",
       "      <td>10011977</td>\n",
       "      <td>Basic</td>\n",
       "      <td>2023-01-31</td>\n",
       "      <td>676.54</td>\n",
       "    </tr>\n",
       "    <tr>\n",
       "      <th>1</th>\n",
       "      <td>97027297</td>\n",
       "      <td>Blake Dudson</td>\n",
       "      <td>30/06/1955</td>\n",
       "      <td>7253587445</td>\n",
       "      <td>2 Huxley Hill</td>\n",
       "      <td>10031238</td>\n",
       "      <td>Basic</td>\n",
       "      <td>2023-01-31</td>\n",
       "      <td>576.52</td>\n",
       "    </tr>\n",
       "    <tr>\n",
       "      <th>2</th>\n",
       "      <td>89460366</td>\n",
       "      <td>Kayla Emtage</td>\n",
       "      <td>12/10/1987</td>\n",
       "      <td>7867994451</td>\n",
       "      <td>8 Green Ridge Alley</td>\n",
       "      <td>10079965</td>\n",
       "      <td>Basic</td>\n",
       "      <td>2023-01-31</td>\n",
       "      <td>799.27</td>\n",
       "    </tr>\n",
       "    <tr>\n",
       "      <th>3</th>\n",
       "      <td>41402857</td>\n",
       "      <td>Federico Cathro</td>\n",
       "      <td>13/12/1985</td>\n",
       "      <td>7283906757</td>\n",
       "      <td>12 Green Hill</td>\n",
       "      <td>10231977</td>\n",
       "      <td>Basic</td>\n",
       "      <td>2023-01-31</td>\n",
       "      <td>61.63</td>\n",
       "    </tr>\n",
       "    <tr>\n",
       "      <th>4</th>\n",
       "      <td>8882143</td>\n",
       "      <td>Kizzee Puddephatt</td>\n",
       "      <td>18/10/2003</td>\n",
       "      <td>7598835878</td>\n",
       "      <td>72404 Maywood Avenue</td>\n",
       "      <td>10232603</td>\n",
       "      <td>Gold</td>\n",
       "      <td>2023-01-31</td>\n",
       "      <td>732.55</td>\n",
       "    </tr>\n",
       "  </tbody>\n",
       "</table>\n",
       "</div>"
      ],
      "text/plain": [
       "  Account Holder ID               Name Date of Birth  Contact Number  \\\n",
       "0          20123998  Maynord Surgeoner    21/08/1997      7716107305   \n",
       "1          97027297       Blake Dudson    30/06/1955      7253587445   \n",
       "2          89460366       Kayla Emtage    12/10/1987      7867994451   \n",
       "3          41402857    Federico Cathro    13/12/1985      7283906757   \n",
       "4           8882143  Kizzee Puddephatt    18/10/2003      7598835878   \n",
       "\n",
       "    First Line of Address  Account Number Account Type Balance Date  Balance  \n",
       "0  6422 Buena Vista Plaza        10011977        Basic   2023-01-31   676.54  \n",
       "1           2 Huxley Hill        10031238        Basic   2023-01-31   576.52  \n",
       "2     8 Green Ridge Alley        10079965        Basic   2023-01-31   799.27  \n",
       "3           12 Green Hill        10231977        Basic   2023-01-31    61.63  \n",
       "4    72404 Maywood Avenue        10232603         Gold   2023-01-31   732.55  "
      ]
     },
     "execution_count": 12,
     "metadata": {},
     "output_type": "execute_result"
    }
   ],
   "source": [
    "acc.head()"
   ]
  },
  {
   "cell_type": "code",
   "execution_count": 13,
   "metadata": {},
   "outputs": [],
   "source": [
    "#acc.to_csv('acc.csv')\n",
    "#transaction.to_csv('transaction.csv')"
   ]
  },
  {
   "attachments": {},
   "cell_type": "markdown",
   "metadata": {},
   "source": [
    "I don't see any related column to join the remaing dataset \n",
    "i will wait for the solution and see how they join it"
   ]
  },
  {
   "cell_type": "markdown",
   "metadata": {},
   "source": []
  }
 ],
 "metadata": {
  "kernelspec": {
   "display_name": "Python 3",
   "language": "python",
   "name": "python3"
  },
  "language_info": {
   "codemirror_mode": {
    "name": "ipython",
    "version": 3
   },
   "file_extension": ".py",
   "mimetype": "text/x-python",
   "name": "python",
   "nbconvert_exporter": "python",
   "pygments_lexer": "ipython3",
   "version": "3.10.10"
  },
  "orig_nbformat": 4,
  "vscode": {
   "interpreter": {
    "hash": "a3c6aa2c1f5ade621a3ce5896e28a293a53d1c4364b3b89dfb2b4cbc0658e59e"
   }
  }
 },
 "nbformat": 4,
 "nbformat_minor": 2
}
